{
 "cells": [
  {
   "cell_type": "markdown",
   "id": "b70dc536",
   "metadata": {},
   "source": [
    "### 1)wap ask the user enter 3 numbers n1,n2,n3 from keyboard, calculate average."
   ]
  },
  {
   "cell_type": "code",
   "execution_count": 1,
   "id": "eb453043",
   "metadata": {},
   "outputs": [
    {
     "name": "stdout",
     "output_type": "stream",
     "text": [
      "Enter number 1:10\n",
      "Enter number 2:20\n",
      "Enter number 3:30\n",
      "The avg of 10,20,30 is 20.0\n"
     ]
    }
   ],
   "source": [
    "#Avegarge of Three numbers\n",
    "n1=eval(input(\"Enter number 1:\"))\n",
    "n2=eval(input(\"Enter number 2:\"))\n",
    "n3=eval(input(\"Enter number 3:\"))\n",
    "avg=(n1+n2+n3)/3\n",
    "print(f\"The avg of {n1},{n2},{n3} is {avg}\")"
   ]
  },
  {
   "cell_type": "markdown",
   "id": "e28f6903",
   "metadata": {},
   "source": [
    "### 2)wap ask the user enter name age city , print my name is python im 10 years old and came from hyd."
   ]
  },
  {
   "cell_type": "code",
   "execution_count": 2,
   "id": "de09e68e",
   "metadata": {},
   "outputs": [
    {
     "name": "stdout",
     "output_type": "stream",
     "text": [
      "Enter your Name:Vaibhav\n",
      "Enter your age:21\n",
      "Enter your city:Nizamabad\n",
      "My Name is Vaibhav, i am 21 years old and came form Nizamabad.\n"
     ]
    }
   ],
   "source": [
    "name=input(\"Enter your Name:\")\n",
    "age=input(\"Enter your age:\")\n",
    "city=input(\"Enter your city:\")\n",
    "print(f\"My Name is {name}, i am {age} years old and came form {city}.\")"
   ]
  },
  {
   "cell_type": "markdown",
   "id": "30217160",
   "metadata": {},
   "source": [
    "### 3)wap ask the user to enter radidus of a circle calculate area of the circle."
   ]
  },
  {
   "cell_type": "code",
   "execution_count": 3,
   "id": "30c23df3",
   "metadata": {},
   "outputs": [
    {
     "name": "stdout",
     "output_type": "stream",
     "text": [
      "Enter radius of the circle:16\n",
      "The area of circle with radius 16 is : 803.84 cm²\n"
     ]
    }
   ],
   "source": [
    "rad=eval(input(\"Enter radius of the circle:\"))\n",
    "pi=3.14\n",
    "area=pi*rad*rad\n",
    "x=(round(area,2))\n",
    "print(f\"The area of circle with radius {rad} is : {x} cm²\")"
   ]
  },
  {
   "cell_type": "markdown",
   "id": "5425500d",
   "metadata": {},
   "source": [
    "### 4)wap ask the user enter breadth and height of a right angle triangle"
   ]
  },
  {
   "cell_type": "code",
   "execution_count": 4,
   "id": "0356cc28",
   "metadata": {},
   "outputs": [
    {
     "name": "stdout",
     "output_type": "stream",
     "text": [
      "Enter breadth of the triangle:6\n",
      "Enter height of the triangle:8\n",
      "The area of Right angled triangle with Breadth 6cm & Height 8cm is : 24.0cm²\n"
     ]
    }
   ],
   "source": [
    "B=eval(input(\"Enter breadth of the triangle:\"))\n",
    "H=eval(input(\"Enter height of the triangle:\"))\n",
    "area=0.5*B*H\n",
    "print(f\"The area of Right angled triangle with Breadth {B}cm & Height {H}cm is : {area}cm²\")"
   ]
  },
  {
   "cell_type": "markdown",
   "id": "7fdbb96b",
   "metadata": {},
   "source": [
    "### 5)wap ask the user the bill amount and tip amount"
   ]
  },
  {
   "cell_type": "code",
   "execution_count": 7,
   "id": "1cc1645d",
   "metadata": {},
   "outputs": [
    {
     "name": "stdout",
     "output_type": "stream",
     "text": [
      "Enter Bill amount:1000\n",
      "Enter Tip amount:30\n",
      "The total bill amount 1000 with Tip amount 30 is : 1030\n"
     ]
    }
   ],
   "source": [
    "B=int(input(\"Enter Bill amount:\"))\n",
    "Tip=int(input(\"Enter Tip amount:\"))\n",
    "T_Bill=B+Tip\n",
    "print(f\"The total bill amount {B} with Tip amount {Tip} is : {T_Bill}\")"
   ]
  },
  {
   "cell_type": "markdown",
   "id": "e14150f3",
   "metadata": {},
   "source": [
    "### 6)wap ask the user the bill amount and tip percentage"
   ]
  },
  {
   "cell_type": "code",
   "execution_count": 8,
   "id": "d752653b",
   "metadata": {},
   "outputs": [
    {
     "name": "stdout",
     "output_type": "stream",
     "text": [
      "Enter the bill amount:350\n",
      "Enter the tip %:20\n",
      "Total bill with tip percentage added is:420.0\n"
     ]
    }
   ],
   "source": [
    "bill_amnt=eval(input(\"Enter the bill amount:\"))\n",
    "tip=eval(input(\"Enter the tip %:\"))\n",
    "total_bill=bill_amnt+(bill_amnt*tip)/100\n",
    "print(f\"Total bill with tip percentage added is:{total_bill}\")"
   ]
  },
  {
   "cell_type": "markdown",
   "id": "1337bc46",
   "metadata": {},
   "source": [
    "### 7)wap ask the length and breadth of a rectangle calculate area"
   ]
  },
  {
   "cell_type": "code",
   "execution_count": 9,
   "id": "dd0a7279",
   "metadata": {},
   "outputs": [
    {
     "name": "stdout",
     "output_type": "stream",
     "text": [
      "Enter Length of the Rectangle:10\n",
      "Enter Breadth of the Rectangle:8\n",
      "The area of Rectangle with Length 10cm and Breadth 8cm is : 80cm²\n"
     ]
    }
   ],
   "source": [
    "L=eval(input(\"Enter Length of the Rectangle:\"))\n",
    "B=eval(input(\"Enter Breadth of the Rectangle:\"))\n",
    "area=L*B\n",
    "print(f\"The area of Rectangle with Length {L}cm and Breadth {B}cm is : {area}cm²\")"
   ]
  },
  {
   "cell_type": "markdown",
   "id": "b2c098a8",
   "metadata": {},
   "source": [
    "### 8) wap ask the user take the radius and calculate volume of sphere"
   ]
  },
  {
   "cell_type": "code",
   "execution_count": 11,
   "id": "204efb4e",
   "metadata": {},
   "outputs": [
    {
     "name": "stdout",
     "output_type": "stream",
     "text": [
      "Enter radius of the circle:8\n",
      "The volume of Sphere with radius 8 is : 2143.57 cm³\n"
     ]
    }
   ],
   "source": [
    "rad=eval(input(\"Enter radius of the circle:\"))\n",
    "pi=3.14\n",
    "vol=(4/3)*pi*rad*rad*rad\n",
    "x=(round(vol,2))\n",
    "print(f\"The volume of Sphere with radius {rad} is : {x} cm³\")"
   ]
  },
  {
   "cell_type": "markdown",
   "id": "7b038b3f",
   "metadata": {},
   "source": [
    "### 9) wap ask the user enter amount in dollars convert into rupees"
   ]
  },
  {
   "cell_type": "code",
   "execution_count": 15,
   "id": "35002394",
   "metadata": {},
   "outputs": [
    {
     "name": "stdout",
     "output_type": "stream",
     "text": [
      "Enter Dollars to convert into Rupees:9\n",
      "The amount of 9$ in Rupees is : 720₹.\n"
     ]
    }
   ],
   "source": [
    "Dollar=eval(input(\"Enter Dollars to convert into Rupees:\"))\n",
    "rup=80\n",
    "converted=Dollar*rup\n",
    "print(f\"The amount of {Dollar}$ in Rupees is : {converted}₹.\")"
   ]
  },
  {
   "cell_type": "markdown",
   "id": "e144ce10",
   "metadata": {},
   "source": [
    "### 10)wap ask the user enter weight in kgs convert into pounds"
   ]
  },
  {
   "cell_type": "code",
   "execution_count": 17,
   "id": "b1972509",
   "metadata": {},
   "outputs": [
    {
     "name": "stdout",
     "output_type": "stream",
     "text": [
      "Enter weight to convert into Pounds:10\n",
      "The weight 10Kg in Pounds is :22.0 Pounds.\n"
     ]
    }
   ],
   "source": [
    "W=eval(input(\"Enter weight to convert into Pounds:\"))\n",
    "Pound=2.2\n",
    "converted=W*Pound\n",
    "print(f\"The weight {W}Kg in Pounds is :{converted} Pounds.\")"
   ]
  },
  {
   "cell_type": "code",
   "execution_count": null,
   "id": "dd6d4830",
   "metadata": {},
   "outputs": [],
   "source": []
  }
 ],
 "metadata": {
  "kernelspec": {
   "display_name": "Python 3 (ipykernel)",
   "language": "python",
   "name": "python3"
  },
  "language_info": {
   "codemirror_mode": {
    "name": "ipython",
    "version": 3
   },
   "file_extension": ".py",
   "mimetype": "text/x-python",
   "name": "python",
   "nbconvert_exporter": "python",
   "pygments_lexer": "ipython3",
   "version": "3.9.13"
  }
 },
 "nbformat": 4,
 "nbformat_minor": 5
}
