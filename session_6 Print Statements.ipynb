{
 "cells": [
  {
   "cell_type": "code",
   "execution_count": 1,
   "id": "b62b83f7",
   "metadata": {},
   "outputs": [
    {
     "data": {
      "text/plain": [
       "20"
      ]
     },
     "execution_count": 1,
     "metadata": {},
     "output_type": "execute_result"
    }
   ],
   "source": [
    "a=10\n",
    "b=20\n",
    "a\n",
    "b"
   ]
  },
  {
   "cell_type": "code",
   "execution_count": 2,
   "id": "1f0acbd8",
   "metadata": {},
   "outputs": [
    {
     "name": "stdout",
     "output_type": "stream",
     "text": [
      "10\n",
      "20\n"
     ]
    }
   ],
   "source": [
    "print(10)\n",
    "b=20\n",
    "print(b)"
   ]
  },
  {
   "cell_type": "code",
   "execution_count": 3,
   "id": "6254bf63",
   "metadata": {},
   "outputs": [
    {
     "name": "stdout",
     "output_type": "stream",
     "text": [
      "10 20\n"
     ]
    }
   ],
   "source": [
    "print(a,b)"
   ]
  },
  {
   "cell_type": "code",
   "execution_count": 4,
   "id": "b1566dda",
   "metadata": {},
   "outputs": [
    {
     "name": "stdout",
     "output_type": "stream",
     "text": [
      "30 Nareshit Hyd\n"
     ]
    }
   ],
   "source": [
    "print(30,'Nareshit','Hyd')"
   ]
  },
  {
   "cell_type": "code",
   "execution_count": 7,
   "id": "e1a258bd",
   "metadata": {},
   "outputs": [
    {
     "name": "stdout",
     "output_type": "stream",
     "text": [
      "The addition of 100 and 200 is 300\n"
     ]
    }
   ],
   "source": [
    "num1=100\n",
    "num2=200\n",
    "add=num1+num2\n",
    "#the addition of 100 and 200 is 300\n",
    "print(\"The addition of\", num1 , \"and\" , num2 ,\"is\" ,add)"
   ]
  },
  {
   "cell_type": "code",
   "execution_count": 8,
   "id": "a4379c7a",
   "metadata": {},
   "outputs": [
    {
     "name": "stdout",
     "output_type": "stream",
     "text": [
      "My name is Vaibhav i am 21 years old and came from hyd\n"
     ]
    }
   ],
   "source": [
    "name=\"Vaibhav\"\n",
    "age=21\n",
    "city=\"hyd\"\n",
    "print(\"My name is\",name,\"i am\",age,\"years old and came from\",city)"
   ]
  },
  {
   "cell_type": "markdown",
   "id": "65083b7f",
   "metadata": {},
   "source": [
    "# FORMAT METHOD"
   ]
  },
  {
   "cell_type": "code",
   "execution_count": 9,
   "id": "1f112f94",
   "metadata": {},
   "outputs": [
    {
     "name": "stdout",
     "output_type": "stream",
     "text": [
      "My name is Vaibhav i am 21 years old and came from hyd\n"
     ]
    }
   ],
   "source": [
    "name=\"Vaibhav\"\n",
    "age=21\n",
    "city=\"hyd\"\n",
    "print(\"My name is {} i am {} years old and came from {}\".format(name,age,city))"
   ]
  },
  {
   "cell_type": "code",
   "execution_count": 10,
   "id": "09fd7633",
   "metadata": {},
   "outputs": [
    {
     "name": "stdout",
     "output_type": "stream",
     "text": [
      "The addition of 100 and 200 is 300\n"
     ]
    }
   ],
   "source": [
    "num1=100\n",
    "num2=200\n",
    "add=num1+num2\n",
    "#the addition of 100 and 200 is 300\n",
    "print(\"The addition of {} and {} is {}\".format(num1,num2,add))"
   ]
  },
  {
   "cell_type": "code",
   "execution_count": 11,
   "id": "3950e2c4",
   "metadata": {},
   "outputs": [
    {
     "name": "stdout",
     "output_type": "stream",
     "text": [
      "The addition of 100 and 200 is 300\n",
      "The subtraction of 100 and 200 is -100\n",
      "The multiplication of 100 and 200 is 20000\n",
      "The division of 100 and 200 is 0.5\n"
     ]
    }
   ],
   "source": [
    "numb1=100\n",
    "numb2=200\n",
    "add1=numb1+numb2\n",
    "sub=num1-numb2\n",
    "mul=numb1*numb2\n",
    "div=numb1/numb2\n",
    "print(\"The addition of {} and {} is {}\".format(numb1,numb2,add1))\n",
    "print(\"The subtraction of {} and {} is {}\".format(numb1,numb2,sub))\n",
    "print(\"The multiplication of {} and {} is {}\".format(numb1,numb2,mul))\n",
    "print(\"The division of {} and {} is {}\".format(numb1,numb2,div))"
   ]
  },
  {
   "cell_type": "code",
   "execution_count": 18,
   "id": "8f3606d0",
   "metadata": {},
   "outputs": [
    {
     "name": "stdout",
     "output_type": "stream",
     "text": [
      "The average of 10,20,30 is : 20.0\n"
     ]
    }
   ],
   "source": [
    "N1=10\n",
    "N2=20\n",
    "N3=30\n",
    "avg=(N1+N2+N3)/3\n",
    "print(\"The average of {},{},{} is : {}\".format(N1,N2,N3,avg))"
   ]
  },
  {
   "cell_type": "code",
   "execution_count": 25,
   "id": "f8b497e7",
   "metadata": {},
   "outputs": [
    {
     "name": "stdout",
     "output_type": "stream",
     "text": [
      "=============================ADD=========================================\n",
      "The addition of 100 and 200 is 300\n",
      "=============================SUB=========================================\n",
      "The subtraction of 100 and 200 is -100\n",
      "=============================MUL=========================================\n",
      "The multiplication of 100 and 200 is 20000\n",
      "=============================DIV=========================================\n",
      "The division of 100 and 200 is 0.5\n",
      "=============================AVG=========================================\n",
      "The average of 10,20,30 is : 20.0\n",
      "=============================END=========================================\n"
     ]
    }
   ],
   "source": [
    "numb1=100\n",
    "numb2=200\n",
    "add1=numb1+numb2\n",
    "sub=num1-numb2\n",
    "mul=numb1*numb2\n",
    "div=numb1/numb2\n",
    "print(\"=============================ADD=========================================\")\n",
    "print(\"The addition of {} and {} is {}\".format(numb1,numb2,add1))\n",
    "print(\"=============================SUB=========================================\")\n",
    "print(\"The subtraction of {} and {} is {}\".format(numb1,numb2,sub))\n",
    "print(\"=============================MUL=========================================\")\n",
    "print(\"The multiplication of {} and {} is {}\".format(numb1,numb2,mul))\n",
    "print(\"=============================DIV=========================================\")\n",
    "print(\"The division of {} and {} is {}\".format(numb1,numb2,div))\n",
    "print(\"=============================AVG=========================================\")\n",
    "N1=10\n",
    "N2=20\n",
    "N3=30\n",
    "avg=(N1+N2+N3)/3\n",
    "print(\"The average of {},{},{} is : {}\".format(N1,N2,N3,avg))\n",
    "print(\"=============================END=========================================\")"
   ]
  },
  {
   "cell_type": "markdown",
   "id": "c4837879",
   "metadata": {},
   "source": [
    "# F String"
   ]
  },
  {
   "cell_type": "code",
   "execution_count": 24,
   "id": "3526b82d",
   "metadata": {},
   "outputs": [
    {
     "name": "stdout",
     "output_type": "stream",
     "text": [
      "=============================ADD=========================================\n",
      "The addition of 100 and 200 is 300\n",
      "=============================SUB=========================================\n",
      "The subtraction of 100 and 200 is -100\n",
      "=============================MUL=========================================\n",
      "The multiplication of 100 and 200 is 20000\n",
      "=============================DIV=========================================\n",
      "The division of 100 and 200 is 0.5\n",
      "=============================AVG=========================================\n",
      "The average of 10,20,30 is : 20.0\n",
      "=============================END=========================================\n"
     ]
    }
   ],
   "source": [
    "numb1=100\n",
    "numb2=200\n",
    "add1=numb1+numb2\n",
    "sub=num1-numb2\n",
    "mul=numb1*numb2\n",
    "div=numb1/numb2\n",
    "print(f\"=============================ADD=========================================\")\n",
    "print(f\"The addition of {numb1} and {numb2} is {add1}\")\n",
    "print(\"=============================SUB=========================================\")\n",
    "print(f\"The subtraction of {numb1} and {numb2} is {sub}\")\n",
    "print(\"=============================MUL=========================================\")\n",
    "print(f\"The multiplication of {numb1} and {numb2} is {mul}\")\n",
    "print(\"=============================DIV=========================================\")\n",
    "print(f\"The division of {numb1} and {numb2} is {div}\")\n",
    "print(\"=============================AVG=========================================\")\n",
    "N1=10\n",
    "N2=20\n",
    "N3=30\n",
    "avg=(N1+N2+N3)/3\n",
    "print(f\"The average of {N1},{N2},{N3} is : {avg}\")\n",
    "print(\"=============================END=========================================\")"
   ]
  },
  {
   "cell_type": "markdown",
   "id": "c7ac2b21",
   "metadata": {},
   "source": [
    "## ROUND"
   ]
  },
  {
   "cell_type": "code",
   "execution_count": 27,
   "id": "e601d971",
   "metadata": {},
   "outputs": [],
   "source": [
    "# int()\n",
    "# float()\n",
    "# hello()\n",
    "# bye()\n",
    "CTRL+A and CTRL+/ to comment the whole information\n"
   ]
  },
  {
   "cell_type": "code",
   "execution_count": 31,
   "id": "272679b8",
   "metadata": {},
   "outputs": [
    {
     "name": "stdout",
     "output_type": "stream",
     "text": [
      "22\n"
     ]
    }
   ],
   "source": [
    "a=10\n",
    "b=25\n",
    "c=30\n",
    "x=(a+b+c)/3\n",
    "print(round(x))\n"
   ]
  },
  {
   "cell_type": "code",
   "execution_count": 32,
   "id": "e2f7f957",
   "metadata": {},
   "outputs": [
    {
     "name": "stdout",
     "output_type": "stream",
     "text": [
      "21.667\n"
     ]
    }
   ],
   "source": [
    "a=10\n",
    "b=25\n",
    "c=30\n",
    "x=(a+b+c)/3\n",
    "print(round(x,3))#round for rounding up the result the number after x indicates that how many decimals we want to bound to.\n"
   ]
  },
  {
   "cell_type": "markdown",
   "id": "4d6a17f3",
   "metadata": {},
   "source": [
    "# end"
   ]
  },
  {
   "cell_type": "code",
   "execution_count": 33,
   "id": "d5b87261",
   "metadata": {},
   "outputs": [
    {
     "name": "stdout",
     "output_type": "stream",
     "text": [
      "10====>20\n"
     ]
    }
   ],
   "source": [
    "print(10,end=\"====>\")\n",
    "print(20)"
   ]
  },
  {
   "cell_type": "code",
   "execution_count": 35,
   "id": "e73a5e13",
   "metadata": {},
   "outputs": [
    {
     "name": "stdout",
     "output_type": "stream",
     "text": [
      "10 20 30\n"
     ]
    }
   ],
   "source": [
    "print(10,end=\" \")\n",
    "print(20,end=\" \")\n",
    "print(30)"
   ]
  },
  {
   "cell_type": "code",
   "execution_count": 37,
   "id": "a5637f1b",
   "metadata": {},
   "outputs": [
    {
     "name": "stdout",
     "output_type": "stream",
     "text": [
      "hello hai how are you\n"
     ]
    }
   ],
   "source": [
    "print('hello',end=\" \")\n",
    "print('hai',end=\" \")\n",
    "print('how',end=\" \")\n",
    "print('are',end=\" \")\n",
    "print('you')"
   ]
  },
  {
   "cell_type": "markdown",
   "id": "8ae174ca",
   "metadata": {},
   "source": [
    "## Separator"
   ]
  },
  {
   "cell_type": "code",
   "execution_count": 38,
   "id": "820ca817",
   "metadata": {},
   "outputs": [
    {
     "name": "stdout",
     "output_type": "stream",
     "text": [
      "10===>20===>30\n"
     ]
    }
   ],
   "source": [
    "print(10,20,30,sep='===>')"
   ]
  },
  {
   "cell_type": "code",
   "execution_count": 39,
   "id": "a56ed385",
   "metadata": {},
   "outputs": [
    {
     "name": "stdout",
     "output_type": "stream",
     "text": [
      "10,20,30\n"
     ]
    }
   ],
   "source": [
    "print(10,20,30,sep=',')"
   ]
  },
  {
   "cell_type": "markdown",
   "id": "2246226d",
   "metadata": {},
   "source": [
    "- \"sep\" is used to add a seperator among the values where desired."
   ]
  },
  {
   "cell_type": "code",
   "execution_count": 40,
   "id": "512eed98",
   "metadata": {},
   "outputs": [],
   "source": [
    "# Write a program take the radius of circle and calculate area of the circle\n",
    "#var: radius var: pi=3.14\n",
    "#formulae: pi*radius*radius\n",
    "#print the result using f string and format methods.\n",
    "\n",
    "\n",
    "#wap take the breadth and height of a right angle triangle\n",
    "#calculate the area\n",
    "#var1: breadth var2: height\n",
    "#formulae 0.5*breadth*height\n",
    "\n",
    "#calculate the total bill\n",
    "#var1: bill amount var2: tip amount\n",
    "#formulae\n",
    "\n",
    "\n",
    "#wap take the length and breadth of a rectangle calculate area\n",
    "#var1: lenght var2: breadth\n",
    "#formulae: length * breadth"
   ]
  },
  {
   "cell_type": "markdown",
   "id": "97c49f1e",
   "metadata": {},
   "source": [
    "## Area of Circle"
   ]
  },
  {
   "cell_type": "code",
   "execution_count": 51,
   "id": "e7bc6af2",
   "metadata": {},
   "outputs": [
    {
     "name": "stdout",
     "output_type": "stream",
     "text": [
      "The area of circle with radius 14 is : 615.44 cm²\n"
     ]
    }
   ],
   "source": [
    "rad=14\n",
    "pi=3.14\n",
    "area=pi*rad*rad\n",
    "x=(round(area,2))\n",
    "print(f\"The area of circle with radius {rad} is : {x} cm²\")"
   ]
  },
  {
   "cell_type": "markdown",
   "id": "e026b2b9",
   "metadata": {},
   "source": [
    "## Area of Right angled Triangle"
   ]
  },
  {
   "cell_type": "code",
   "execution_count": 55,
   "id": "a54fefab",
   "metadata": {},
   "outputs": [
    {
     "name": "stdout",
     "output_type": "stream",
     "text": [
      "The area of Right angled triangle with Breadth 8cm & Height 4cm is : 16.0cm²\n"
     ]
    }
   ],
   "source": [
    "B=8\n",
    "H=4\n",
    "area=0.5*B*H\n",
    "print(f\"The area of Right angled triangle with Breadth {B}cm & Height {H}cm is : {area}cm²\")"
   ]
  },
  {
   "cell_type": "markdown",
   "id": "c5c9ccc4",
   "metadata": {},
   "source": [
    "## Total Bill Amount"
   ]
  },
  {
   "cell_type": "code",
   "execution_count": 53,
   "id": "6826ab45",
   "metadata": {},
   "outputs": [
    {
     "name": "stdout",
     "output_type": "stream",
     "text": [
      "The total bill amount 3000 with Tip amount 300 is : 3300\n"
     ]
    }
   ],
   "source": [
    "TB=3000\n",
    "Tip=300\n",
    "Bill=TB+Tip\n",
    "print(f\"The total bill amount {TB} with Tip amount {Tip} is : {Bill}\")"
   ]
  },
  {
   "cell_type": "markdown",
   "id": "cf87564b",
   "metadata": {},
   "source": [
    "## Area of a Rectangle"
   ]
  },
  {
   "cell_type": "code",
   "execution_count": 56,
   "id": "0bfe21e0",
   "metadata": {},
   "outputs": [
    {
     "name": "stdout",
     "output_type": "stream",
     "text": [
      "The area of Rectangle with Length 8cm and Breadth 6cm is : 48cm²\n"
     ]
    }
   ],
   "source": [
    "L=8\n",
    "B=6\n",
    "area=L*B\n",
    "print(f\"The area of Rectangle with Length {L}cm and Breadth {B}cm is : {area}cm²\")"
   ]
  },
  {
   "cell_type": "markdown",
   "id": "b117a944",
   "metadata": {},
   "source": [
    "**input**\n",
    "- in above we provided the value \n",
    "- innput is the inbuilt function\n",
    "- using input the user can provide any value"
   ]
  },
  {
   "cell_type": "code",
   "execution_count": 1,
   "id": "bc68500c",
   "metadata": {},
   "outputs": [
    {
     "data": {
      "text/plain": [
       "<bound method Kernel.raw_input of <ipykernel.ipkernel.IPythonKernel object at 0x00000148606C3D30>>"
      ]
     },
     "execution_count": 1,
     "metadata": {},
     "output_type": "execute_result"
    }
   ],
   "source": [
    "input\n"
   ]
  },
  {
   "cell_type": "markdown",
   "id": "a8f8098b",
   "metadata": {},
   "source": [
    "**Note: whenever u see bound method or function which indicates we forget the braces**"
   ]
  },
  {
   "cell_type": "code",
   "execution_count": 3,
   "id": "4837ac5a",
   "metadata": {},
   "outputs": [
    {
     "name": "stdout",
     "output_type": "stream",
     "text": [
      "Hi how are you\n"
     ]
    },
    {
     "data": {
      "text/plain": [
       "'Hi how are you'"
      ]
     },
     "execution_count": 3,
     "metadata": {},
     "output_type": "execute_result"
    }
   ],
   "source": [
    "input()"
   ]
  },
  {
   "cell_type": "code",
   "execution_count": 4,
   "id": "0e47d85f",
   "metadata": {},
   "outputs": [
    {
     "name": "stdout",
     "output_type": "stream",
     "text": [
      "20\n"
     ]
    }
   ],
   "source": [
    "b=input()"
   ]
  },
  {
   "cell_type": "code",
   "execution_count": 5,
   "id": "4091a4fd",
   "metadata": {},
   "outputs": [
    {
     "data": {
      "text/plain": [
       "str"
      ]
     },
     "execution_count": 5,
     "metadata": {},
     "output_type": "execute_result"
    }
   ],
   "source": [
    "type(b)"
   ]
  },
  {
   "cell_type": "code",
   "execution_count": 7,
   "id": "8949a9d7",
   "metadata": {},
   "outputs": [
    {
     "ename": "TypeError",
     "evalue": "can only concatenate str (not \"int\") to str",
     "output_type": "error",
     "traceback": [
      "\u001b[1;31m---------------------------------------------------------------------------\u001b[0m",
      "\u001b[1;31mTypeError\u001b[0m                                 Traceback (most recent call last)",
      "\u001b[1;32m~\\AppData\\Local\\Temp\\ipykernel_22320\\2069514856.py\u001b[0m in \u001b[0;36m<module>\u001b[1;34m\u001b[0m\n\u001b[1;32m----> 1\u001b[1;33m \u001b[0mc\u001b[0m\u001b[1;33m=\u001b[0m\u001b[0mb\u001b[0m\u001b[1;33m+\u001b[0m\u001b[1;36m20\u001b[0m\u001b[1;33m\u001b[0m\u001b[1;33m\u001b[0m\u001b[0m\n\u001b[0m\u001b[0;32m      2\u001b[0m \u001b[0mc\u001b[0m\u001b[1;33m\u001b[0m\u001b[1;33m\u001b[0m\u001b[0m\n",
      "\u001b[1;31mTypeError\u001b[0m: can only concatenate str (not \"int\") to str"
     ]
    }
   ],
   "source": [
    "c=b+20\n",
    "c"
   ]
  },
  {
   "cell_type": "code",
   "execution_count": 12,
   "id": "ab84a979",
   "metadata": {},
   "outputs": [
    {
     "name": "stdout",
     "output_type": "stream",
     "text": [
      "Enter a number:20\n",
      "Enter a number:30\n",
      "2030\n"
     ]
    }
   ],
   "source": [
    "a=input(\"Enter a number:\")\n",
    "b=input(\"Enter a number:\")\n",
    "c=a+b\n",
    "print(c)"
   ]
  },
  {
   "cell_type": "code",
   "execution_count": 13,
   "id": "56dc900a",
   "metadata": {},
   "outputs": [
    {
     "name": "stdout",
     "output_type": "stream",
     "text": [
      "Enter a number:20\n",
      "Enter a number:30\n",
      "50\n"
     ]
    }
   ],
   "source": [
    "a=int(input(\"Enter a number:\"))\n",
    "b=int(input(\"Enter a number:\"))\n",
    "c=a+b\n",
    "print(c)"
   ]
  },
  {
   "cell_type": "code",
   "execution_count": 16,
   "id": "7d4174ea",
   "metadata": {},
   "outputs": [
    {
     "name": "stdout",
     "output_type": "stream",
     "text": [
      "enter your str1:apple \n",
      "enter your str2:is \n",
      "enter your str3:fruit\n"
     ]
    },
    {
     "data": {
      "text/plain": [
       "'apple is fruit'"
      ]
     },
     "execution_count": 16,
     "metadata": {},
     "output_type": "execute_result"
    }
   ],
   "source": [
    "str1=input(\"enter your str1:\")\n",
    "str2=input(\"enter your str2:\")\n",
    "str3=input(\"enter your str3:\")\n",
    "str1+str2+str3"
   ]
  },
  {
   "cell_type": "code",
   "execution_count": 18,
   "id": "7e712f74",
   "metadata": {},
   "outputs": [
    {
     "name": "stdout",
     "output_type": "stream",
     "text": [
      "Enter a number:10\n",
      "Enter a number:20\n",
      "30\n"
     ]
    }
   ],
   "source": [
    "a=input(\"Enter a number:\")\n",
    "b=input(\"Enter a number:\")\n",
    "c=int(a)+int(b)\n",
    "print(c)"
   ]
  },
  {
   "cell_type": "code",
   "execution_count": 19,
   "id": "0424a901",
   "metadata": {},
   "outputs": [
    {
     "name": "stdout",
     "output_type": "stream",
     "text": [
      "Enter a number:10\n",
      "Enter a number:20\n",
      "1020\n"
     ]
    }
   ],
   "source": [
    "a=input(\"Enter a number:\")\n",
    "b=input(\"Enter a number:\")\n",
    "c=a+b\n",
    "print(int(c))"
   ]
  },
  {
   "cell_type": "markdown",
   "id": "5655d92b",
   "metadata": {},
   "source": [
    "**eval**\n",
    "- eval means evaluate\n",
    "- it is related to math family\n",
    "- which means it works only number represent as strings\n",
    "- it will not work on english letters\n",
    "- eval will convert the respective data type which user will enter\n",
    "- if user enter 10 in quotes it will convert into 10\n",
    "- if user enter 10.5 in quotes it will convert into 10.5"
   ]
  },
  {
   "cell_type": "code",
   "execution_count": 22,
   "id": "3bac6fa0",
   "metadata": {},
   "outputs": [
    {
     "data": {
      "text/plain": [
       "(10, 10.5)"
      ]
     },
     "execution_count": 22,
     "metadata": {},
     "output_type": "execute_result"
    }
   ],
   "source": [
    "eval('10'), eval('10.5')"
   ]
  },
  {
   "cell_type": "code",
   "execution_count": 23,
   "id": "2e85e8ff",
   "metadata": {},
   "outputs": [
    {
     "name": "stdout",
     "output_type": "stream",
     "text": [
      "Enter a number:10\n",
      "Enter a number:20\n",
      "30\n"
     ]
    }
   ],
   "source": [
    "a=eval(input(\"Enter a number:\"))\n",
    "b=eval(input(\"Enter a number:\"))\n",
    "c=a+b\n",
    "print(c)"
   ]
  },
  {
   "cell_type": "markdown",
   "id": "8bfef28b",
   "metadata": {},
   "source": [
    "# Assignment"
   ]
  },
  {
   "cell_type": "code",
   "execution_count": 24,
   "id": "18dc0e9c",
   "metadata": {},
   "outputs": [
    {
     "name": "stdout",
     "output_type": "stream",
     "text": [
      "Enter radius of the circle:14\n",
      "The area of circle with radius 14 is : 615.44 cm²\n"
     ]
    }
   ],
   "source": [
    "#Radius of the circle.\n",
    "rad=eval(input(\"Enter radius of the circle:\"))\n",
    "pi=3.14\n",
    "area=pi*rad*rad\n",
    "x=(round(area,2))\n",
    "print(f\"The area of circle with radius {rad} is : {x} cm²\")"
   ]
  },
  {
   "cell_type": "code",
   "execution_count": 28,
   "id": "c9e64bbb",
   "metadata": {},
   "outputs": [
    {
     "name": "stdout",
     "output_type": "stream",
     "text": [
      "Enter breadth of the triangle:6\n",
      "Enter height of the triangle:8\n",
      "The area of Right angled triangle with Breadth 6cm & Height 8cm is : 24.0cm²\n"
     ]
    }
   ],
   "source": [
    "#Area of triangle\n",
    "B=eval(input(\"Enter breadth of the triangle:\"))\n",
    "H=eval(input(\"Enter height of the triangle:\"))\n",
    "area=0.5*B*H\n",
    "print(f\"The area of Right angled triangle with Breadth {B}cm & Height {H}cm is : {area}cm²\")"
   ]
  },
  {
   "cell_type": "code",
   "execution_count": 31,
   "id": "cc40c7dd",
   "metadata": {},
   "outputs": [
    {
     "name": "stdout",
     "output_type": "stream",
     "text": [
      "Enter number 1:10\n",
      "Enter number 2:20\n",
      "Enter number 3:30\n",
      "The avg of 10,20,30 is 20.0\n"
     ]
    }
   ],
   "source": [
    "#Avegarge of Three numbers\n",
    "n1=eval(input(\"Enter number 1:\"))\n",
    "n2=eval(input(\"Enter number 2:\"))\n",
    "n3=eval(input(\"Enter number 3:\"))\n",
    "avg=(n1+n2+n3)/3\n",
    "print(f\"The avg of {n1},{n2},{n3} is {avg}\")"
   ]
  },
  {
   "cell_type": "code",
   "execution_count": 36,
   "id": "49f0c13a",
   "metadata": {},
   "outputs": [
    {
     "name": "stdout",
     "output_type": "stream",
     "text": [
      "Enter the bill amount:200\n",
      "Enter the tip %:20\n",
      "Total bill with tip percentage added is:240.0\n"
     ]
    }
   ],
   "source": [
    "#asking the user to enter the tip percentage and calculating the total bill_amount\n",
    "bill_amnt=eval(input(\"Enter the bill amount:\"))\n",
    "tip=eval(input(\"Enter the tip %:\"))\n",
    "total_bill=bill_amnt+(bill_amnt*tip)/100\n",
    "print(f\"Total bill with tip percentage added is:{total_bill}\")"
   ]
  },
  {
   "cell_type": "code",
   "execution_count": 39,
   "id": "798876a5",
   "metadata": {},
   "outputs": [
    {
     "name": "stdout",
     "output_type": "stream",
     "text": [
      "Enter your Name:vaibhav\n",
      "Enter your age:21\n",
      "Enter your city:Nizamabad\n",
      "My Name is vaibhav, i am 21 years old and came form Nizamabad.\n"
     ]
    }
   ],
   "source": [
    "name=input(\"Enter your Name:\")\n",
    "age=input(\"Enter your age:\")\n",
    "city=input(\"Enter your city:\")\n",
    "print(f\"My Name is {name}, i am {age} years old and came form {city}.\")"
   ]
  },
  {
   "cell_type": "code",
   "execution_count": null,
   "id": "4731216a",
   "metadata": {},
   "outputs": [],
   "source": []
  }
 ],
 "metadata": {
  "kernelspec": {
   "display_name": "Python 3 (ipykernel)",
   "language": "python",
   "name": "python3"
  },
  "language_info": {
   "codemirror_mode": {
    "name": "ipython",
    "version": 3
   },
   "file_extension": ".py",
   "mimetype": "text/x-python",
   "name": "python",
   "nbconvert_exporter": "python",
   "pygments_lexer": "ipython3",
   "version": "3.9.13"
  }
 },
 "nbformat": 4,
 "nbformat_minor": 5
}
