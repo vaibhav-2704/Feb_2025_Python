{
 "cells": [
  {
   "cell_type": "markdown",
   "id": "428bbc0d",
   "metadata": {},
   "source": [
    "#Type Casting\n",
    "- Converting one datatype to another datatype\n",
    "- we learnt 4 DataType \n",
    "    - int\n",
    "    -float\n",
    "    -bool\n",
    "    -str\n",
    "    "
   ]
  },
  {
   "cell_type": "markdown",
   "id": "8e5f360e",
   "metadata": {},
   "source": [
    "***INTEGER TO OTHER DATATYPES***"
   ]
  },
  {
   "cell_type": "code",
   "execution_count": 1,
   "id": "c71d73c1",
   "metadata": {},
   "outputs": [
    {
     "data": {
      "text/plain": [
       "int"
      ]
     },
     "execution_count": 1,
     "metadata": {},
     "output_type": "execute_result"
    }
   ],
   "source": [
    "num=100\n",
    "type(num)"
   ]
  },
  {
   "cell_type": "code",
   "execution_count": 3,
   "id": "6e8bc618",
   "metadata": {},
   "outputs": [
    {
     "data": {
      "text/plain": [
       "float"
      ]
     },
     "execution_count": 3,
     "metadata": {},
     "output_type": "execute_result"
    }
   ],
   "source": [
    "float_num = float(num)\n",
    "type(float_num)"
   ]
  },
  {
   "cell_type": "code",
   "execution_count": 5,
   "id": "aa1342bc",
   "metadata": {},
   "outputs": [
    {
     "data": {
      "text/plain": [
       "bool"
      ]
     },
     "execution_count": 5,
     "metadata": {},
     "output_type": "execute_result"
    }
   ],
   "source": [
    "bool_num = bool(num)\n",
    "type(bool_num)"
   ]
  },
  {
   "cell_type": "code",
   "execution_count": 6,
   "id": "2b565f27",
   "metadata": {},
   "outputs": [
    {
     "data": {
      "text/plain": [
       "str"
      ]
     },
     "execution_count": 6,
     "metadata": {},
     "output_type": "execute_result"
    }
   ],
   "source": [
    "str_num = str(num)\n",
    "type(str_num)"
   ]
  },
  {
   "cell_type": "code",
   "execution_count": 10,
   "id": "1c6259bf",
   "metadata": {},
   "outputs": [
    {
     "data": {
      "text/plain": [
       "(100.0, '100', True)"
      ]
     },
     "execution_count": 10,
     "metadata": {},
     "output_type": "execute_result"
    }
   ],
   "source": [
    "float(num), str(num), bool(num)"
   ]
  },
  {
   "cell_type": "code",
   "execution_count": 11,
   "id": "a4ca647f",
   "metadata": {},
   "outputs": [
    {
     "name": "stdout",
     "output_type": "stream",
     "text": [
      "100.0\n",
      "100\n",
      "True\n"
     ]
    }
   ],
   "source": [
    "print(float(num))\n",
    "print(str(num))\n",
    "print(bool(num))"
   ]
  },
  {
   "cell_type": "code",
   "execution_count": 12,
   "id": "0a509e20",
   "metadata": {},
   "outputs": [
    {
     "name": "stdout",
     "output_type": "stream",
     "text": [
      "-100.0\n",
      "-100\n",
      "True\n"
     ]
    }
   ],
   "source": [
    "print(float(-100))\n",
    "print(str(-100))\n",
    "print(bool(-100))"
   ]
  },
  {
   "cell_type": "code",
   "execution_count": 13,
   "id": "a5fa2da5",
   "metadata": {},
   "outputs": [
    {
     "name": "stdout",
     "output_type": "stream",
     "text": [
      "0.0\n",
      "0\n",
      "False\n"
     ]
    }
   ],
   "source": [
    "print(float(0))\n",
    "print(str(0))\n",
    "print(bool(0))"
   ]
  },
  {
   "cell_type": "markdown",
   "id": "b2d92fa8",
   "metadata": {},
   "source": [
    "***Float to other DataTypes***"
   ]
  },
  {
   "cell_type": "code",
   "execution_count": 14,
   "id": "a28c62b3",
   "metadata": {},
   "outputs": [
    {
     "data": {
      "text/plain": [
       "34.5"
      ]
     },
     "execution_count": 14,
     "metadata": {},
     "output_type": "execute_result"
    }
   ],
   "source": [
    "num2= 34.5\n",
    "num2"
   ]
  },
  {
   "cell_type": "code",
   "execution_count": 15,
   "id": "55361432",
   "metadata": {},
   "outputs": [
    {
     "data": {
      "text/plain": [
       "float"
      ]
     },
     "execution_count": 15,
     "metadata": {},
     "output_type": "execute_result"
    }
   ],
   "source": [
    "type(num2)"
   ]
  },
  {
   "cell_type": "code",
   "execution_count": 16,
   "id": "aef991e8",
   "metadata": {},
   "outputs": [
    {
     "name": "stdout",
     "output_type": "stream",
     "text": [
      "34\n",
      "34.5\n",
      "True\n"
     ]
    }
   ],
   "source": [
    "print(int(num2))\n",
    "print(str(num2))\n",
    "print(bool(num2))"
   ]
  },
  {
   "cell_type": "code",
   "execution_count": 17,
   "id": "7f1e79ac",
   "metadata": {},
   "outputs": [
    {
     "data": {
      "text/plain": [
       "float"
      ]
     },
     "execution_count": 17,
     "metadata": {},
     "output_type": "execute_result"
    }
   ],
   "source": [
    "float_num2 = float(num2)\n",
    "type(float_num2)"
   ]
  },
  {
   "cell_type": "code",
   "execution_count": 18,
   "id": "48e7fa56",
   "metadata": {},
   "outputs": [
    {
     "data": {
      "text/plain": [
       "int"
      ]
     },
     "execution_count": 18,
     "metadata": {},
     "output_type": "execute_result"
    }
   ],
   "source": [
    "int_num2 = int(num2)\n",
    "type(int_num2)"
   ]
  },
  {
   "cell_type": "code",
   "execution_count": 19,
   "id": "d14d37d8",
   "metadata": {},
   "outputs": [
    {
     "data": {
      "text/plain": [
       "bool"
      ]
     },
     "execution_count": 19,
     "metadata": {},
     "output_type": "execute_result"
    }
   ],
   "source": [
    "bool_num2 = bool(num2)\n",
    "type(bool_num2)"
   ]
  },
  {
   "cell_type": "code",
   "execution_count": 20,
   "id": "2bc9bd47",
   "metadata": {},
   "outputs": [
    {
     "data": {
      "text/plain": [
       "str"
      ]
     },
     "execution_count": 20,
     "metadata": {},
     "output_type": "execute_result"
    }
   ],
   "source": [
    "str_num2 = str(num2)\n",
    "type(str_num2)"
   ]
  },
  {
   "cell_type": "code",
   "execution_count": 21,
   "id": "a25b973e",
   "metadata": {},
   "outputs": [
    {
     "data": {
      "text/plain": [
       "(34, '34.5', True)"
      ]
     },
     "execution_count": 21,
     "metadata": {},
     "output_type": "execute_result"
    }
   ],
   "source": [
    "int(num2), str(num2), bool(num2)"
   ]
  },
  {
   "cell_type": "code",
   "execution_count": 22,
   "id": "5dc7495a",
   "metadata": {},
   "outputs": [
    {
     "name": "stdout",
     "output_type": "stream",
     "text": [
      "0\n",
      "0.0\n",
      "False\n"
     ]
    }
   ],
   "source": [
    "print(int(0.0))\n",
    "print(str(0.0))\n",
    "print(bool(0.0))"
   ]
  },
  {
   "cell_type": "markdown",
   "id": "5ce4ddf5",
   "metadata": {},
   "source": [
    "### String to other DataTypes ###"
   ]
  },
  {
   "cell_type": "code",
   "execution_count": 26,
   "id": "7c67ff25",
   "metadata": {},
   "outputs": [
    {
     "ename": "ValueError",
     "evalue": "invalid literal for int() with base 10: 'Vaibhav'",
     "output_type": "error",
     "traceback": [
      "\u001b[1;31m---------------------------------------------------------------------------\u001b[0m",
      "\u001b[1;31mValueError\u001b[0m                                Traceback (most recent call last)",
      "\u001b[1;32m~\\AppData\\Local\\Temp\\ipykernel_27184\\3581060737.py\u001b[0m in \u001b[0;36m<module>\u001b[1;34m\u001b[0m\n\u001b[1;32m----> 1\u001b[1;33m \u001b[0mint\u001b[0m\u001b[1;33m(\u001b[0m\u001b[1;34m'Vaibhav'\u001b[0m\u001b[1;33m)\u001b[0m\u001b[1;33m\u001b[0m\u001b[1;33m\u001b[0m\u001b[0m\n\u001b[0m\u001b[0;32m      2\u001b[0m \u001b[0mstr\u001b[0m\u001b[1;33m(\u001b[0m\u001b[1;34m'Vaibhav'\u001b[0m\u001b[1;33m)\u001b[0m\u001b[1;33m\u001b[0m\u001b[1;33m\u001b[0m\u001b[0m\n\u001b[0;32m      3\u001b[0m \u001b[0mbool\u001b[0m\u001b[1;33m(\u001b[0m\u001b[1;34m'Vaibhav'\u001b[0m\u001b[1;33m)\u001b[0m\u001b[1;33m\u001b[0m\u001b[1;33m\u001b[0m\u001b[0m\n",
      "\u001b[1;31mValueError\u001b[0m: invalid literal for int() with base 10: 'Vaibhav'"
     ]
    }
   ],
   "source": [
    "int('Vaibhav')#fail\n",
    "str('Vaibhav')#fail\n",
    "bool('Vaibhav')#true"
   ]
  },
  {
   "cell_type": "code",
   "execution_count": 27,
   "id": "a5e05b9f",
   "metadata": {},
   "outputs": [
    {
     "data": {
      "text/plain": [
       "True"
      ]
     },
     "execution_count": 27,
     "metadata": {},
     "output_type": "execute_result"
    }
   ],
   "source": [
    "bool('Vaibhav')#works & True"
   ]
  },
  {
   "cell_type": "code",
   "execution_count": 28,
   "id": "81407939",
   "metadata": {},
   "outputs": [
    {
     "data": {
      "text/plain": [
       "True"
      ]
     },
     "execution_count": 28,
     "metadata": {},
     "output_type": "execute_result"
    }
   ],
   "source": [
    "bool('0')"
   ]
  },
  {
   "cell_type": "code",
   "execution_count": 29,
   "id": "1553fd27",
   "metadata": {},
   "outputs": [
    {
     "data": {
      "text/plain": [
       "False"
      ]
     },
     "execution_count": 29,
     "metadata": {},
     "output_type": "execute_result"
    }
   ],
   "source": [
    "bool('')#if nothing is there it gives false"
   ]
  },
  {
   "cell_type": "code",
   "execution_count": 30,
   "id": "a32ee682",
   "metadata": {},
   "outputs": [
    {
     "data": {
      "text/plain": [
       "7"
      ]
     },
     "execution_count": 30,
     "metadata": {},
     "output_type": "execute_result"
    }
   ],
   "source": [
    "len('vaibhav')"
   ]
  },
  {
   "cell_type": "code",
   "execution_count": 31,
   "id": "43e3ac88",
   "metadata": {},
   "outputs": [
    {
     "data": {
      "text/plain": [
       "True"
      ]
     },
     "execution_count": 31,
     "metadata": {},
     "output_type": "execute_result"
    }
   ],
   "source": [
    "bool(' ') #extra space available so says true"
   ]
  },
  {
   "cell_type": "markdown",
   "id": "82ed5be2",
   "metadata": {},
   "source": [
    "- for number 0 and 0.0 boolean converstion gives **False**.\n",
    "- for strings empty boolean converstion gives **False**."
   ]
  },
  {
   "cell_type": "code",
   "execution_count": 32,
   "id": "99659c31",
   "metadata": {},
   "outputs": [
    {
     "data": {
      "text/plain": [
       "10.0"
      ]
     },
     "execution_count": 32,
     "metadata": {},
     "output_type": "execute_result"
    }
   ],
   "source": [
    "float('10')"
   ]
  },
  {
   "cell_type": "code",
   "execution_count": 33,
   "id": "0c80d5c5",
   "metadata": {},
   "outputs": [
    {
     "data": {
      "text/plain": [
       "True"
      ]
     },
     "execution_count": 33,
     "metadata": {},
     "output_type": "execute_result"
    }
   ],
   "source": [
    "bool('10')"
   ]
  },
  {
   "cell_type": "code",
   "execution_count": 34,
   "id": "08fac7fa",
   "metadata": {},
   "outputs": [
    {
     "data": {
      "text/plain": [
       "10"
      ]
     },
     "execution_count": 34,
     "metadata": {},
     "output_type": "execute_result"
    }
   ],
   "source": [
    "int('10')"
   ]
  },
  {
   "cell_type": "markdown",
   "id": "db82893f",
   "metadata": {},
   "source": [
    "- If u get **Object not Callable**.\n",
    "- then open a **new notebook**.\n",
    "- or go to **kernel** and **restart it**."
   ]
  },
  {
   "cell_type": "code",
   "execution_count": 37,
   "id": "98c098ab",
   "metadata": {},
   "outputs": [
    {
     "ename": "ValueError",
     "evalue": "invalid literal for int() with base 10: '10.5'",
     "output_type": "error",
     "traceback": [
      "\u001b[1;31m---------------------------------------------------------------------------\u001b[0m",
      "\u001b[1;31mValueError\u001b[0m                                Traceback (most recent call last)",
      "\u001b[1;32m~\\AppData\\Local\\Temp\\ipykernel_27184\\3179039703.py\u001b[0m in \u001b[0;36m<module>\u001b[1;34m\u001b[0m\n\u001b[1;32m----> 1\u001b[1;33m \u001b[0mint\u001b[0m\u001b[1;33m(\u001b[0m\u001b[1;34m'10.5'\u001b[0m\u001b[1;33m)\u001b[0m\u001b[1;31m#fail\u001b[0m\u001b[1;33m\u001b[0m\u001b[1;33m\u001b[0m\u001b[0m\n\u001b[0m",
      "\u001b[1;31mValueError\u001b[0m: invalid literal for int() with base 10: '10.5'"
     ]
    }
   ],
   "source": [
    "int('10.5')#fail"
   ]
  },
  {
   "cell_type": "code",
   "execution_count": 36,
   "id": "147d35f0",
   "metadata": {},
   "outputs": [
    {
     "data": {
      "text/plain": [
       "(10.5, True)"
      ]
     },
     "execution_count": 36,
     "metadata": {},
     "output_type": "execute_result"
    }
   ],
   "source": [
    "float('10.5'), bool('10.5')"
   ]
  },
  {
   "cell_type": "markdown",
   "id": "e2d09f94",
   "metadata": {},
   "source": [
    "**FLOAT is the Boss.**"
   ]
  },
  {
   "cell_type": "code",
   "execution_count": 39,
   "id": "89c464f6",
   "metadata": {},
   "outputs": [
    {
     "ename": "ValueError",
     "evalue": "invalid literal for int() with base 10: '10.5'",
     "output_type": "error",
     "traceback": [
      "\u001b[1;31m---------------------------------------------------------------------------\u001b[0m",
      "\u001b[1;31mValueError\u001b[0m                                Traceback (most recent call last)",
      "\u001b[1;32m~\\AppData\\Local\\Temp\\ipykernel_27184\\150182793.py\u001b[0m in \u001b[0;36m<module>\u001b[1;34m\u001b[0m\n\u001b[0;32m      3\u001b[0m \u001b[1;33m\u001b[0m\u001b[0m\n\u001b[0;32m      4\u001b[0m \u001b[0mint\u001b[0m\u001b[1;33m(\u001b[0m\u001b[1;34m'10'\u001b[0m\u001b[1;33m)\u001b[0m \u001b[1;31m#work\u001b[0m\u001b[1;33m\u001b[0m\u001b[1;33m\u001b[0m\u001b[0m\n\u001b[1;32m----> 5\u001b[1;33m \u001b[0mint\u001b[0m\u001b[1;33m(\u001b[0m\u001b[1;34m'10.5'\u001b[0m\u001b[1;33m)\u001b[0m \u001b[1;31m#f\u001b[0m\u001b[1;33m\u001b[0m\u001b[1;33m\u001b[0m\u001b[0m\n\u001b[0m",
      "\u001b[1;31mValueError\u001b[0m: invalid literal for int() with base 10: '10.5'"
     ]
    }
   ],
   "source": [
    "float('10') #work\n",
    "float('10.5') #work\n",
    "\n",
    "int('10') #work\n",
    "int('10.5') #f"
   ]
  },
  {
   "cell_type": "markdown",
   "id": "02a57dd4",
   "metadata": {},
   "source": [
    "***BOOLEAN TO OTHER DATATYPES***"
   ]
  },
  {
   "cell_type": "code",
   "execution_count": 43,
   "id": "92a50fda",
   "metadata": {},
   "outputs": [
    {
     "name": "stdout",
     "output_type": "stream",
     "text": [
      "1\n",
      "0\n"
     ]
    }
   ],
   "source": [
    "print(int(True))\n",
    "print(int(False))"
   ]
  },
  {
   "cell_type": "code",
   "execution_count": 44,
   "id": "4ff206b5",
   "metadata": {},
   "outputs": [
    {
     "name": "stdout",
     "output_type": "stream",
     "text": [
      "1.0\n"
     ]
    }
   ],
   "source": [
    "print(float(True))"
   ]
  },
  {
   "cell_type": "code",
   "execution_count": 45,
   "id": "7856b354",
   "metadata": {},
   "outputs": [
    {
     "name": "stdout",
     "output_type": "stream",
     "text": [
      "0.0\n"
     ]
    }
   ],
   "source": [
    "print(float(False))"
   ]
  },
  {
   "cell_type": "code",
   "execution_count": 46,
   "id": "bd6416cb",
   "metadata": {},
   "outputs": [
    {
     "name": "stdout",
     "output_type": "stream",
     "text": [
      "True\n"
     ]
    }
   ],
   "source": [
    "print(str(True))"
   ]
  },
  {
   "cell_type": "code",
   "execution_count": 47,
   "id": "1626e6a7",
   "metadata": {},
   "outputs": [
    {
     "name": "stdout",
     "output_type": "stream",
     "text": [
      "False\n"
     ]
    }
   ],
   "source": [
    "print(str(False))"
   ]
  },
  {
   "cell_type": "code",
   "execution_count": 48,
   "id": "ee23716b",
   "metadata": {},
   "outputs": [
    {
     "name": "stdout",
     "output_type": "stream",
     "text": [
      "True\n"
     ]
    }
   ],
   "source": [
    "print(bool(True))"
   ]
  },
  {
   "cell_type": "code",
   "execution_count": 50,
   "id": "357e8c51",
   "metadata": {},
   "outputs": [
    {
     "name": "stdout",
     "output_type": "stream",
     "text": [
      "False\n"
     ]
    }
   ],
   "source": [
    "print(bool(False))"
   ]
  },
  {
   "cell_type": "markdown",
   "id": "9171e876",
   "metadata": {},
   "source": [
    " "
   ]
  }
 ],
 "metadata": {
  "kernelspec": {
   "display_name": "Python 3 (ipykernel)",
   "language": "python",
   "name": "python3"
  },
  "language_info": {
   "codemirror_mode": {
    "name": "ipython",
    "version": 3
   },
   "file_extension": ".py",
   "mimetype": "text/x-python",
   "name": "python",
   "nbconvert_exporter": "python",
   "pygments_lexer": "ipython3",
   "version": "3.9.13"
  }
 },
 "nbformat": 4,
 "nbformat_minor": 5
}
