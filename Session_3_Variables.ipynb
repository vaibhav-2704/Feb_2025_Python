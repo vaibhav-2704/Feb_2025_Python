{
 "cells": [
  {
   "cell_type": "markdown",
   "id": "fa3ac8ed-e531-485d-8c13-96ae452d6cfc",
   "metadata": {},
   "source": [
    "# Variables"
   ]
  },
  {
   "cell_type": "markdown",
   "id": "ded433e7-3905-4eba-82ed-4853565dd2cb",
   "metadata": {},
   "source": [
    "- Variables are used to store the data\n",
    "\n",
    "- The Data can be change \n",
    "\n",
    "- These Variables can be use to manipulate python code"
   ]
  },
  {
   "cell_type": "code",
   "execution_count": 1,
   "id": "1778e36c-1e68-4753-a200-7f339c5045b1",
   "metadata": {},
   "outputs": [
    {
     "data": {
      "text/plain": [
       "100"
      ]
     },
     "execution_count": 1,
     "metadata": {},
     "output_type": "execute_result"
    }
   ],
   "source": [
    "number=100\n",
    "# 100 is stored in a variable called as number\n",
    "number"
   ]
  },
  {
   "cell_type": "code",
   "execution_count": 2,
   "id": "d0bd23de-e728-493f-88d7-acd7ddbbe11c",
   "metadata": {},
   "outputs": [
    {
     "data": {
      "text/plain": [
       "200"
      ]
     },
     "execution_count": 2,
     "metadata": {},
     "output_type": "execute_result"
    }
   ],
   "source": [
    "NUMBER=200\n",
    "NUMBER"
   ]
  },
  {
   "cell_type": "code",
   "execution_count": 3,
   "id": "c324eeed-61b4-438b-83b9-8c9de2b1958c",
   "metadata": {},
   "outputs": [
    {
     "data": {
      "text/plain": [
       "(100, 200)"
      ]
     },
     "execution_count": 3,
     "metadata": {},
     "output_type": "execute_result"
    }
   ],
   "source": [
    "number,NUMBER"
   ]
  },
  {
   "cell_type": "code",
   "execution_count": 4,
   "id": "2ede296e-6fff-4e6b-af83-254bd705d530",
   "metadata": {},
   "outputs": [
    {
     "data": {
      "text/plain": [
       "300"
      ]
     },
     "execution_count": 4,
     "metadata": {},
     "output_type": "execute_result"
    }
   ],
   "source": [
    "NUMber=300\n",
    "NUMber"
   ]
  },
  {
   "cell_type": "code",
   "execution_count": 5,
   "id": "e77590ab-62ee-4106-b733-0ae6434d93bc",
   "metadata": {},
   "outputs": [
    {
     "data": {
      "text/plain": [
       "(100, 200, 300)"
      ]
     },
     "execution_count": 5,
     "metadata": {},
     "output_type": "execute_result"
    }
   ],
   "source": [
    "number,NUMBER,NUMber"
   ]
  },
  {
   "cell_type": "code",
   "execution_count": 6,
   "id": "04f5ff00-f20c-4c76-bcd4-36bcc782753b",
   "metadata": {},
   "outputs": [
    {
     "data": {
      "text/plain": [
       "400"
      ]
     },
     "execution_count": 6,
     "metadata": {},
     "output_type": "execute_result"
    }
   ],
   "source": [
    "number123=400\n",
    "number123"
   ]
  },
  {
   "cell_type": "code",
   "execution_count": 7,
   "id": "7aa834e3-2fa6-4b17-bb94-da53a481ce32",
   "metadata": {},
   "outputs": [
    {
     "ename": "SyntaxError",
     "evalue": "invalid decimal literal (1181908654.py, line 1)",
     "output_type": "error",
     "traceback": [
      "\u001b[1;36m  Cell \u001b[1;32mIn[7], line 1\u001b[1;36m\u001b[0m\n\u001b[1;33m    123number=500\u001b[0m\n\u001b[1;37m      ^\u001b[0m\n\u001b[1;31mSyntaxError\u001b[0m\u001b[1;31m:\u001b[0m invalid decimal literal\n"
     ]
    }
   ],
   "source": [
    "123number=500\n",
    "123number"
   ]
  },
  {
   "cell_type": "code",
   "execution_count": 9,
   "id": "0f3d2871-9537-4e8f-9998-e8aeab43eeb6",
   "metadata": {},
   "outputs": [
    {
     "data": {
      "text/plain": [
       "400"
      ]
     },
     "execution_count": 9,
     "metadata": {},
     "output_type": "execute_result"
    }
   ],
   "source": [
    "# type first two letter enter tab\n",
    "number\n",
    "number123"
   ]
  },
  {
   "cell_type": "markdown",
   "id": "617dbc7d-c606-4c3a-81a7-f31158fcb805",
   "metadata": {},
   "source": [
    "**Note**:\n",
    "\n",
    "- Variables generally in black color\n",
    "\n",
    "- Green color should not be a variables\n",
    "\n",
    "- numbers as suffix can work\n",
    "\n",
    "- numbers as prefix fail"
   ]
  },
  {
   "cell_type": "code",
   "execution_count": 10,
   "id": "2ddcb02f-8aaa-4ab4-9b20-1a89605f5c14",
   "metadata": {},
   "outputs": [
    {
     "ename": "SyntaxError",
     "evalue": "invalid syntax (988349833.py, line 1)",
     "output_type": "error",
     "traceback": [
      "\u001b[1;36m  Cell \u001b[1;32mIn[10], line 1\u001b[1;36m\u001b[0m\n\u001b[1;33m    number$=600\u001b[0m\n\u001b[1;37m          ^\u001b[0m\n\u001b[1;31mSyntaxError\u001b[0m\u001b[1;31m:\u001b[0m invalid syntax\n"
     ]
    }
   ],
   "source": [
    "number$=600\n",
    "number$"
   ]
  },
  {
   "cell_type": "markdown",
   "id": "4ee3b1a6-4b1b-4e67-9403-b588c4517870",
   "metadata": {},
   "source": [
    "- spl charcaters does not allowed "
   ]
  },
  {
   "cell_type": "code",
   "execution_count": 11,
   "id": "f14a3bbc-e63f-4451-9890-52c37297a4f4",
   "metadata": {},
   "outputs": [
    {
     "ename": "SyntaxError",
     "evalue": "invalid syntax (3486595279.py, line 1)",
     "output_type": "error",
     "traceback": [
      "\u001b[1;36m  Cell \u001b[1;32mIn[11], line 1\u001b[1;36m\u001b[0m\n\u001b[1;33m    number one=200\u001b[0m\n\u001b[1;37m           ^\u001b[0m\n\u001b[1;31mSyntaxError\u001b[0m\u001b[1;31m:\u001b[0m invalid syntax\n"
     ]
    }
   ],
   "source": [
    "number one=200\n",
    "number one"
   ]
  },
  {
   "cell_type": "code",
   "execution_count": 12,
   "id": "9076c59e-9fdf-4dbc-9213-afcdc59a1240",
   "metadata": {},
   "outputs": [
    {
     "data": {
      "text/plain": [
       "300"
      ]
     },
     "execution_count": 12,
     "metadata": {},
     "output_type": "execute_result"
    }
   ],
   "source": [
    "number_one=300\n",
    "number_one"
   ]
  },
  {
   "cell_type": "markdown",
   "id": "146e89d3-1fe4-4603-b376-cc81dade4d76",
   "metadata": {},
   "source": [
    "- underscore can use as variable"
   ]
  },
  {
   "cell_type": "code",
   "execution_count": null,
   "id": "840c7b58-a60e-484a-905b-c431a3650448",
   "metadata": {},
   "outputs": [],
   "source": [
    "numberone\n",
    "number_one"
   ]
  },
  {
   "cell_type": "code",
   "execution_count": 13,
   "id": "60e1663b-35d8-4541-8b1f-7fe9f4b19f2e",
   "metadata": {},
   "outputs": [
    {
     "data": {
      "text/plain": [
       "1000"
      ]
     },
     "execution_count": 13,
     "metadata": {},
     "output_type": "execute_result"
    }
   ],
   "source": [
    "_=1000\n",
    "_"
   ]
  },
  {
   "cell_type": "code",
   "execution_count": null,
   "id": "1d675878-3b66-412f-a287-4d57fee28bc0",
   "metadata": {},
   "outputs": [],
   "source": [
    "number=100  # w\n",
    "NUMBER=200 # w\n",
    "NUMber=300 # w\n",
    "number123=400 # w\n",
    "123number=500 # f\n",
    "number%=600 # f\n",
    "number one=700 # f\n",
    "number_one=800 # w \n",
    "_=900# w"
   ]
  },
  {
   "cell_type": "code",
   "execution_count": 14,
   "id": "d1c88d35-501c-4fab-92e7-de1751d0375c",
   "metadata": {},
   "outputs": [
    {
     "ename": "SyntaxError",
     "evalue": "invalid syntax (4067401087.py, line 1)",
     "output_type": "error",
     "traceback": [
      "\u001b[1;36m  Cell \u001b[1;32mIn[14], line 1\u001b[1;36m\u001b[0m\n\u001b[1;33m    if=1000\u001b[0m\n\u001b[1;37m      ^\u001b[0m\n\u001b[1;31mSyntaxError\u001b[0m\u001b[1;31m:\u001b[0m invalid syntax\n"
     ]
    }
   ],
   "source": [
    "if=1000"
   ]
  },
  {
   "cell_type": "code",
   "execution_count": null,
   "id": "64a51750-e5c4-4b9a-a3fa-b3031c35461d",
   "metadata": {},
   "outputs": [],
   "source": [
    "for\n",
    "while\n",
    "True\n",
    "False\n"
   ]
  },
  {
   "cell_type": "markdown",
   "id": "eebd7392-3480-41fb-b793-22e51140fa98",
   "metadata": {},
   "source": [
    "**keywords can not use as Varibales**"
   ]
  },
  {
   "cell_type": "code",
   "execution_count": null,
   "id": "c72d094f-be35-48eb-a0d2-1156513a3e3d",
   "metadata": {},
   "outputs": [],
   "source": []
  }
 ],
 "metadata": {
  "kernelspec": {
   "display_name": "Python 3 (ipykernel)",
   "language": "python",
   "name": "python3"
  },
  "language_info": {
   "codemirror_mode": {
    "name": "ipython",
    "version": 3
   },
   "file_extension": ".py",
   "mimetype": "text/x-python",
   "name": "python",
   "nbconvert_exporter": "python",
   "pygments_lexer": "ipython3",
   "version": "3.11.7"
  }
 },
 "nbformat": 4,
 "nbformat_minor": 5
}
